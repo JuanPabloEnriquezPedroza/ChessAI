{
 "cells": [
  {
   "cell_type": "code",
   "execution_count": 1,
   "metadata": {},
   "outputs": [],
   "source": [
    "import chess.pgn"
   ]
  },
  {
   "cell_type": "code",
   "execution_count": 2,
   "metadata": {},
   "outputs": [],
   "source": [
    "con = 0\n",
    "\n",
    "clean = open(\"clean_dataset.pgn\", \"w\")\n",
    "\n",
    "with open(\"./Dataset/games_dataset.pgn\") as f:\n",
    "    while True:\n",
    "        game = chess.pgn.read_game(f)\n",
    "        \n",
    "        if game is None:\n",
    "            break\n",
    "        \n",
    "        if game.headers[\"Result\"] != \"1/2-1/2\":\n",
    "            clean.write(str(game) + \"\\n\\n\")\n",
    "        \n",
    "        con += 1\n",
    "        # print(con)\n",
    "\n",
    "clean.close()"
   ]
  }
 ],
 "metadata": {
  "kernelspec": {
   "display_name": "base",
   "language": "python",
   "name": "python3"
  },
  "language_info": {
   "codemirror_mode": {
    "name": "ipython",
    "version": 3
   },
   "file_extension": ".py",
   "mimetype": "text/x-python",
   "name": "python",
   "nbconvert_exporter": "python",
   "pygments_lexer": "ipython3",
   "version": "3.9.7"
  },
  "orig_nbformat": 4
 },
 "nbformat": 4,
 "nbformat_minor": 2
}
